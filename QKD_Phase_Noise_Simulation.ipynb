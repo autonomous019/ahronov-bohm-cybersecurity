{
 "cells": [
  {
   "cell_type": "markdown",
   "id": "58868f41",
   "metadata": {},
   "source": [
    "# QKD Phase-Noise & Excess-Noise Simulation\n",
    "This notebook demonstrates how small **phase disturbances** impact:\n",
    "\n",
    "- **DV-QKD** interference visibility and QBER\n",
    "- **CV-QKD** excess noise and qualitative key-rate viability\n",
    "\n",
    "It uses simple engineering models to visualize denial-of-service (DoS) boundaries.\n",
    "_For pedagogy only; use your protocol's exact security proofs for production._"
   ]
  },
  {
   "cell_type": "code",
   "execution_count": null,
   "id": "dda3a2ce",
   "metadata": {},
   "outputs": [],
   "source": [
    "import numpy as np\n",
    "import matplotlib.pyplot as plt\n",
    "\n",
    "# Helper functions\n",
    "\n",
    "def visibility_from_phase_rms(sigma_phi):\n",
    "    \"\"\"Interference visibility for Gaussian phase noise (radians RMS).\"\"\"\n",
    "    return np.exp(-(sigma_phi**2)/2.0)\n",
    "\n",
    "def qber_from_visibility(V):\n",
    "    \"\"\"Approximate QBER for DV-QKD time/phase-bin with symmetric errors.\"\"\"\n",
    "    return (1.0 - V)/2.0\n",
    "\n",
    "sigmas = np.linspace(0, 1.5, 400)\n",
    "V = visibility_from_phase_rms(sigmas)\n",
    "Q = qber_from_visibility(V)\n",
    "\n",
    "fig, ax = plt.subplots()\n",
    "ax.plot(sigmas, V)\n",
    "ax.set_xlabel('Phase noise RMS σϕ (rad)')\n",
    "ax.set_ylabel('Visibility V')\n",
    "ax.set_title('DV-QKD: Visibility vs Phase Noise')\n",
    "plt.show()\n",
    "\n",
    "fig, ax = plt.subplots()\n",
    "ax.plot(sigmas, Q)\n",
    "ax.axhline(0.11, ls='--')\n",
    "ax.text(0.05, 0.12, 'Typical abort ~11%', transform=ax.transAxes)\n",
    "ax.set_xlabel('Phase noise RMS σϕ (rad)')\n",
    "ax.set_ylabel('QBER')\n",
    "ax.set_title('DV-QKD: QBER vs Phase Noise')\n",
    "plt.show()"
   ]
  },
  {
   "cell_type": "markdown",
   "id": "3a7d0f6d",
   "metadata": {},
   "source": [
    "## CV-QKD excess noise sketch\n",
    "We illustrate how **excess noise** $\\xi$ (in shot-noise units) degrades an indicative key-rate proxy.\n",
    "\n",
    "We use a **toy model**: $K_\\text{proxy} = \\max\\{0, C - a\\,\\xi\\}$ to show how increasing $\\xi$ \n",
    "can drive the key rate to zero (DoS). Choose parameters to visualize sensitivity; actual security proofs are protocol-specific."
   ]
  },
  {
   "cell_type": "code",
   "execution_count": null,
   "id": "de90f707",
   "metadata": {},
   "outputs": [],
   "source": [
    "xi = np.linspace(0, 0.5, 300)\n",
    "C, a = 0.25, 1.2   # illustrative only\n",
    "Kproxy = np.clip(C - a*xi, 0, None)\n",
    "\n",
    "fig, ax = plt.subplots()\n",
    "ax.plot(xi, Kproxy)\n",
    "ax.set_xlabel('Excess noise ξ (shot-noise units, illustrative)')\n",
    "ax.set_ylabel('Key-rate proxy (arb.)')\n",
    "ax.set_title('CV-QKD: Key-rate proxy vs Excess Noise (Illustrative)')\n",
    "plt.show()\n"
   ]
  },
  {
   "cell_type": "markdown",
   "id": "4b894deb",
   "metadata": {},
   "source": [
    "## Pilot-tone / LO phase wander thought experiment\n",
    "A small RMS phase on the LO or pilot raises the estimator residuals; here we show the **effective** excess noise increase\n",
    "from RMS phase $\\sigma_\\phi$ using a small-angle approximation $\\xi_{\\text{eff}} \\propto \\sigma_\\phi^2$ (illustrative only)."
   ]
  },
  {
   "cell_type": "code",
   "execution_count": null,
   "id": "8dfb71ea",
   "metadata": {},
   "outputs": [],
   "source": [
    "sig = np.linspace(0, 0.5, 200)\n",
    "xi_eff = 0.8*sig**2  # illustrative proportionality\n",
    "fig, ax = plt.subplots()\n",
    "ax.plot(sig, xi_eff)\n",
    "ax.set_xlabel('LO/pilot RMS phase σϕ (rad)')\n",
    "ax.set_ylabel('Effective excess noise (arb.)')\n",
    "ax.set_title('CV-QKD: Effective ξ vs LO Phase Wander (Illustrative)')\n",
    "plt.show()\n"
   ]
  },
  {
   "cell_type": "markdown",
   "id": "14300864",
   "metadata": {},
   "source": [
    "> **Note**: Replace these proxies with your protocol's parameter-estimation\n",
    "> pipeline to get quantitative thresholds for your deployment."
   ]
  }
 ],
 "metadata": {},
 "nbformat": 4,
 "nbformat_minor": 5
}
