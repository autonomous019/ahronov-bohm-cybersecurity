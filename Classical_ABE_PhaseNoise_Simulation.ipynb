{
 "cells": [
  {
   "cell_type": "markdown",
   "id": "3ef9f7fe",
   "metadata": {},
   "source": [
    "# PLL Phase Noise Simulation\n",
    "This notebook shows how injected RMS phase noise can degrade clock stability."
   ]
  },
  {
   "cell_type": "code",
   "execution_count": null,
   "id": "de8ac8ca",
   "metadata": {},
   "outputs": [],
   "source": [
    "import numpy as np\n",
    "import matplotlib.pyplot as plt\n",
    "\n",
    "sigma = np.linspace(0,0.5,500)\n",
    "pll_jitter = sigma * 1e12  # ps jitter approximation\n",
    "\n",
    "plt.plot(sigma, pll_jitter)\n",
    "plt.xlabel('Injected RMS Phase Noise (rad)')\n",
    "plt.ylabel('Approx. Added Jitter (ps)')\n",
    "plt.title('PLL Sensitivity to Phase Noise')\n",
    "plt.show()"
   ]
  }
 ],
 "metadata": {},
 "nbformat": 4,
 "nbformat_minor": 5
}
